{
 "cells": [
  {
   "cell_type": "code",
   "execution_count": 1,
   "metadata": {
    "id": "_rRBme7JgjoF"
   },
   "outputs": [],
   "source": [
    "# Import general python packages\n",
    "import os\n",
    "import numpy as np\n",
    "\n",
    "#For plotting the video\n",
    "import matplotlib\n",
    "from matplotlib import animation\n",
    "from IPython.display import HTML, Image\n",
    "\n",
    "from Pipeline.CBASS_L0_LoadData import LoadData\n",
    "from Pipeline.CBASS_Plot_Embed import PlotEmbed\n",
    "from Pipeline.CBASS_Main_DetectEvents import Main_DetectEvents"
   ]
  },
  {
   "cell_type": "code",
   "execution_count": 2,
   "metadata": {
    "tags": []
   },
   "outputs": [
    {
     "name": "stdout",
     "output_type": "stream",
     "text": [
      "---->> Loading data ... \n",
      "---- Total processing time: 42.63560748100281s seconds ---\n",
      "\n"
     ]
    }
   ],
   "source": [
    "## main\n",
    "class sOPTION:\n",
    "    pass\n",
    "sOPTION.blVerbose=True # Sets whether to print progress on the screen. Default is true \n",
    "sOPTION.dbSigThrs=0.0001 # Significance test\n",
    "sOPTION.inNClu = 20 # 20 # Number of clusters\n",
    "sOPTION.ClusterMETHOD = 'Kmeans' # 'Kmeans', 'SpecClusters'. Note: Specral Clustering will break for vry large number of observations. Kmeans can still handle it though.\n",
    "sOPTION.blSklearn=True # Parameter that defines if the built-in functions will be used (true) or my own implementations \n",
    "sOPTION.MergingMETHOD = 'louvain' # 'random_filters', 'SC_with_RBF', 'louvain'\n",
    "sOPTION.TransformMETHOD = 'hilbert' # 'hilbert', 'wavelet' ('fft2', 'fft' are still not fully implemented)\n",
    "sOPTION.FilterMETHOD = 'filtfilt' #  'lfilter' for 1D filter, 'filtfilt' for two passes on the signal (foward and backward) and phase zero.\n",
    "sOPTION.blNorm=1\n",
    "sOPTION.blCntr=1\n",
    "\n",
    "# Set path to the data\n",
    "chDataPath = '../Data'\n",
    "chExperiment    = 'Example_1'\n",
    "chExpPath       = os.path.join(chDataPath, chExperiment)\n",
    "    \n",
    "# Loads the data\n",
    "sREC            = LoadData(chExpPath, sOPTION)\n",
    "db2LFP          = sREC.db2LFP\n",
    "inSampleRate    = sREC.inSampleRate\n",
    "\n",
    "# Set output options\n",
    "chOutFile   = 'Test_Enrichment_Score'\n",
    "chOutPath = ''\n",
    "chOutPath   = os.path.join(chOutPath,chOutFile)\n",
    "if not os.path.exists(chOutPath):\n",
    "    os.makedirs(chOutPath)\n",
    "sOPTION.chOutPath=chOutPath\n",
    "    "
   ]
  },
  {
   "cell_type": "code",
   "execution_count": 3,
   "metadata": {},
   "outputs": [
    {
     "name": "stdout",
     "output_type": "stream",
     "text": [
      "sOPTION.cBASELINE is not valid. Setting to default\n",
      "---->> Compute phase randomized signal ... \n",
      "-- PCA: 1.3051040172576904s seconds ---\n",
      "-- FFT: 15.595073461532593s seconds ---\n",
      "-- IFFT: 15.74409031867981s seconds ---\n",
      "-- Randomize1D: 42.188316106796265s seconds ---\n",
      "---->> Total processing time: 45.86729454994202s seconds ---\n",
      "Done formatting the LFP and computing the phase randomized signal \n",
      "\n",
      "\n",
      "------ Beta ---------------------------\n",
      "\n",
      "---->> Extract hilbert troughs ... \n",
      "\n",
      "---- Real signal ... \n",
      "Using  filtfilt\n",
      "--Time for fitering: 4.551907539367676\n",
      "Using  hilbert\n",
      "--Time for transformation: 13.270287036895752\n",
      "---- Total processing time: 18.166399240493774s seconds ---\n",
      "\n",
      "---- Surrogate signal ... \n",
      "Using  filtfilt\n",
      "--Time for fitering: 3.734717607498169\n",
      "Using  hilbert\n",
      "--Time for transformation: 12.186552047729492\n",
      "---- Total processing time: 16.2812340259552s seconds ---\n",
      "\n",
      "Done with extraction \n",
      "\n",
      "---->> Partition troughs ... \n",
      "\n",
      "---- Real signal ... \n",
      "Optimization terminated successfully.\n",
      "         Current function value: -298.932241\n",
      "         Iterations: 8\n",
      "         Function evaluations: 20\n",
      "---- Total processing time: 69.45137572288513s seconds ---\n",
      "\n",
      "---- Surrogate signal ... \n"
     ]
    },
    {
     "name": "stderr",
     "output_type": "stream",
     "text": [
      "C:\\ProgramData\\Miniconda3\\envs\\lab_env\\Lib\\site-packages\\scipy\\optimize\\_optimize.py:863: RuntimeWarning: invalid value encountered in subtract\n",
      "  np.max(np.abs(fsim[0] - fsim[1:])) <= fatol):\n",
      "D:\\CBASS\\python\\Pipeline\\Utilities\\CBASS_U_ScoreThreshold.py:54: RuntimeWarning: Maximum number of iterations has been exceeded.\n",
      "  dbThreshold = fmin(MDNORM, np.median(db1Score), maxiter=50, disp=sOPTION.blVerbose)\n"
     ]
    },
    {
     "name": "stdout",
     "output_type": "stream",
     "text": [
      "---- Total processing time: 77.35783505439758s seconds ---\n",
      "\n",
      "------ Done processing Beta ----------------\n",
      "\n",
      "Score: \t\t SIGNIFICANT \t(p = 0.0, KS Test - real vs surrogate data)\n",
      "Partition: \t SIGNIFICANT \t(p = 0.0, Fraction of surrogate troughs above threshold)\n",
      "\n",
      "\n",
      "------ Gamma ---------------------------\n",
      "\n",
      "---->> Extract hilbert troughs ... \n",
      "\n",
      "---- Real signal ... \n",
      "Using  filtfilt\n",
      "--Time for fitering: 3.516247034072876\n",
      "Using  hilbert\n",
      "--Time for transformation: 10.530094861984253\n",
      "---- Total processing time: 14.421882152557373s seconds ---\n",
      "\n",
      "---- Surrogate signal ... \n",
      "Using  filtfilt\n",
      "--Time for fitering: 3.577522039413452\n",
      "Using  hilbert\n",
      "--Time for transformation: 13.12485146522522\n",
      "---- Total processing time: 17.140305995941162s seconds ---\n",
      "\n",
      "Done with extraction \n",
      "\n",
      "---->> Partition troughs ... \n",
      "\n",
      "---- Real signal ... \n",
      "Optimization terminated successfully.\n",
      "         Current function value: -518.929093\n",
      "         Iterations: 15\n",
      "         Function evaluations: 33\n",
      "---- Total processing time: 181.30874705314636s seconds ---\n",
      "\n",
      "---- Surrogate signal ... \n"
     ]
    },
    {
     "name": "stderr",
     "output_type": "stream",
     "text": [
      "C:\\ProgramData\\Miniconda3\\envs\\lab_env\\Lib\\site-packages\\numpy\\core\\fromnumeric.py:3504: RuntimeWarning: Mean of empty slice.\n",
      "  return _methods._mean(a, axis=axis, dtype=dtype,\n",
      "C:\\ProgramData\\Miniconda3\\envs\\lab_env\\Lib\\site-packages\\numpy\\core\\_methods.py:129: RuntimeWarning: invalid value encountered in scalar divide\n",
      "  ret = ret.dtype.type(ret / rcount)\n",
      "D:\\CBASS\\python\\Pipeline\\Utilities\\CBASS_U_ScoreThreshold.py:37: RuntimeWarning: divide by zero encountered in scalar divide\n",
      "  db_MDNorm   = -db_MahalD / np.sqrt(1/np.sum(bl1TSelIdx) + 1/np.sum(~bl1TSelIdx))\n"
     ]
    },
    {
     "name": "stdout",
     "output_type": "stream",
     "text": [
      "---- Total processing time: 201.0676670074463s seconds ---\n",
      "\n",
      "------ Done processing Gamma ----------------\n",
      "\n",
      "Score: \t\t SIGNIFICANT \t(p = 0.0, KS Test - real vs surrogate data)\n",
      "Partition: \t SIGNIFICANT \t(p = 0.0, Fraction of surrogate troughs above threshold)\n",
      "\n"
     ]
    }
   ],
   "source": [
    "# Non optional parameters ----- edit or comment to provide externally throug a system call -------------\n",
    "cBAND           = np.array([[15,30],[30,80]]) # Beta, Gamma\n",
    "cSTATE          = np.array([[sREC.bl1Pres],[sREC.bl1Run]])\n",
    "\n",
    "# Optional parameters ----- Uncomment to provide externally through a system call using carrier name -- \n",
    "sOPTION.cBAND_LABEL     = ['Beta', 'Gamma']  # character array or cell array of labels  for bands in cBAND (i.e. {'Beta', 'Gamma'})\n",
    "sOPTION.cSTATE_LBL      = ['Stim', 'Running']  # character array or cell array of labels  for states in cSTATE (i.e. {'Stim', 'Running'})\n",
    "\n",
    "# L1 options for formatting hilbert troughs (Function CBASS_L1_GetTrough)\n",
    "sOPTION.chDataFormat    = 'complex' # Format of hilbert transform coordinates ('polar' or 'complex' Default is 'complex')\n",
    "sOPTION.inRefChan       = 14    # Reference channel (Default is the last of row of db2LFP.\n",
    "\n",
    "# L2 options for the computation of filters (Function CBASS_L2_GetFilters)\n",
    "# sOPTION.cBASELINE       = {~sREC.b1lPres ~sREC.bl1Run}; % Baseline state.    \n",
    "# sOPTION.blZScore        = true;     % z-score for k-means partitioning. Default is true.\n",
    "# sOPTION.inMethod        = 1;     % method for spectral clusering of template. Default is 1.\n",
    "# sOPTION.inNClu          = 20;       % number of cluster of k-means partitioning. Default is 20.\n",
    "# sOPTION.dbSigThrs       = 10.^-4;    % threshold for enrichment significance. Default is 10.^-4.\n",
    "# sOPTION.inNIter         = 1000;   % maximum iteration of k-means partioning. Default is 10000;\n",
    "\n",
    "# Calls main function \n",
    "sFREQ_BAND, cTROUGH, cTRGH_RND = Main_DetectEvents(sREC.db2LFP, sREC.inSampleRate, cBAND, cSTATE, sOPTION);"
   ]
  },
  {
   "cell_type": "code",
   "execution_count": null,
   "metadata": {},
   "outputs": [
    {
     "name": "stdout",
     "output_type": "stream",
     "text": [
      "Plotting embedding  AllRegions_Running_hilbert_filtfilt\n",
      "Running UMAP (3D)\n"
     ]
    },
    {
     "name": "stderr",
     "output_type": "stream",
     "text": [
      "C:\\ProgramData\\Miniconda3\\envs\\lab_env\\Lib\\site-packages\\sklearn\\utils\\deprecation.py:151: FutureWarning: 'force_all_finite' was renamed to 'ensure_all_finite' in 1.6 and will be removed in 1.8.\n",
      "  warnings.warn(\n",
      "C:\\ProgramData\\Miniconda3\\envs\\lab_env\\Lib\\site-packages\\umap\\umap_.py:1952: UserWarning: n_jobs value 1 overridden to 1 by setting random_state. Use no seed for parallelism.\n",
      "  warn(\n"
     ]
    }
   ],
   "source": [
    "## Calls embedding and its plotting \n",
    "\n",
    "# Sets the data format\n",
    "chDataFormat    = 'complex'\n",
    "\n",
    "# Call python to do the embeding\n",
    "blZScore = True\n",
    "if blZScore: \n",
    "    chZFlag = 'ZScore' \n",
    "else: \n",
    "    chZFlag = 'Raw'\n",
    "\n",
    "# Sets the embeding of choice for\n",
    "chEmbedMethod   = 'umap'\n",
    "inN_Component   = 3\n",
    "iBnd=1; # 0-beta; 1-gamma\n",
    "chLabel = sOPTION.cBAND_LABEL[iBnd]\n",
    "\n",
    "# Generates the embeding plots for running and not running\n",
    "in1EmbedLabel = sREC.bl1Run[cTROUGH[iBnd].in1Index]\n",
    "chLabelTag = 'AllRegions_' + sOPTION.cSTATE_LBL[iBnd] + '_' + sOPTION.TransformMETHOD + '_' + sOPTION.FilterMETHOD\n",
    "chTitle = 'State distribution'\n",
    "chFormatImg     = 'png'\n",
    "blRotate3D      = False\n",
    "blAddLegend     = False\n",
    "inFontSize      = 12\n",
    "blDiscrete      = True\n",
    "blColorbar      = True\n",
    "dbAlpha         = 0.5\n",
    "blDiscrete      = True\n",
    "print('Plotting embedding ', chLabelTag)\n",
    "EmbedData = PlotEmbed(cTROUGH[iBnd], in1EmbedLabel, chLabelTag, chEmbedMethod, chDataFormat, blZScore, inN_Component, chFormatImg, blRotate3D, blAddLegend, inFontSize, blDiscrete, dbAlpha, sOPTION)\n"
   ]
  },
  {
   "cell_type": "code",
   "execution_count": null,
   "metadata": {},
   "outputs": [],
   "source": []
  }
 ],
 "metadata": {
  "colab": {
   "name": "quentin_data_v4.ipynb",
   "provenance": []
  },
  "kernelspec": {
   "display_name": "Python 3 (ipykernel)",
   "language": "python",
   "name": "python3"
  },
  "language_info": {
   "codemirror_mode": {
    "name": "ipython",
    "version": 3
   },
   "file_extension": ".py",
   "mimetype": "text/x-python",
   "name": "python",
   "nbconvert_exporter": "python",
   "pygments_lexer": "ipython3",
   "version": "3.11.11"
  }
 },
 "nbformat": 4,
 "nbformat_minor": 4
}
